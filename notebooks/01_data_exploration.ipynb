{
 "cells": [
  {
   "cell_type": "code",
   "execution_count": 1,
   "id": "dfecd5b4",
   "metadata": {},
   "outputs": [],
   "source": [
    "# Cell 1: Imports\n",
    "import numpy as np\n",
    "import matplotlib.pyplot as plt\n",
    "from pathlib import Path\n",
    "import torch\n",
    "from typing import Tuple, List\n",
    "import warnings\n",
    "warnings.filterwarnings('ignore')\n",
    "\n",
    "# Setting up matplotlib\n",
    "plt.rcParams['figure.figsize'] = (12, 8)\n",
    "plt.rcParams['font.size'] = 12"
   ]
  },
  {
   "cell_type": "code",
   "execution_count": 2,
   "id": "9af25c21",
   "metadata": {},
   "outputs": [
    {
     "name": "stdout",
     "output_type": "stream",
     "text": [
      "Low dose shape: (256, 256, 48, 48)\n",
      "High dose shape: (256, 256, 48, 48)\n",
      "Low dose dtype: float32\n",
      "High dose dtype: float32\n",
      "\n",
      "Low dose stats:\n",
      "  Min: 0.00, Max: 4.08\n",
      "  Mean: 0.07, Std: 0.20\n",
      "\n",
      "High dose stats:\n",
      "  Min: 0.00, Max: 84.14\n",
      "  Mean: 10.04, Std: 8.99\n"
     ]
    }
   ],
   "source": [
    "# Cell 2: Data download\n",
    "data_path = Path(\"../data\")\n",
    "low_dose = np.load(data_path / \"03_denoising_SrTiO3_High_mag_Low_dose.npy\")\n",
    "high_dose = np.load(data_path / \"03_denoising_SrTiO3_High_mag_High_dose.npy\")\n",
    "\n",
    "print(f\"Low dose shape: {low_dose.shape}\")\n",
    "print(f\"High dose shape: {high_dose.shape}\")\n",
    "print(f\"Low dose dtype: {low_dose.dtype}\")\n",
    "print(f\"High dose dtype: {high_dose.dtype}\")\n",
    "\n",
    "# Statistics\n",
    "print(f\"\\nLow dose stats:\")\n",
    "print(f\"  Min: {low_dose.min():.2f}, Max: {low_dose.max():.2f}\")\n",
    "print(f\"  Mean: {low_dose.mean():.2f}, Std: {low_dose.std():.2f}\")\n",
    "\n",
    "print(f\"\\nHigh dose stats:\")\n",
    "print(f\"  Min: {high_dose.min():.2f}, Max: {high_dose.max():.2f}\")\n",
    "print(f\"  Mean: {high_dose.mean():.2f}, Std: {high_dose.std():.2f}\")"
   ]
  },
  {
   "cell_type": "code",
   "execution_count": null,
   "id": "4c601bdb",
   "metadata": {},
   "outputs": [],
   "source": [
    "# Cell 3: Visualisation of CBED patterns\n",
    "def plot_cbed_comparison(low, high, position=(32, 32)):\n",
    "    \"\"\"Сравнение low и high dose CBED паттернов\"\"\"\n",
    "    x, y = position\n",
    "    \n",
    "    fig, axes = plt.subplots(1, 3, figsize=(15, 5))\n",
    "    \n",
    "    # Low dose\n",
    "    im1 = axes[0].imshow(low[x, y], cmap='viridis', interpolation='nearest')\n",
    "    axes[0].set_title(f'Low Dose at ({x}, {y})')\n",
    "    plt.colorbar(im1, ax=axes[0], fraction=0.046)\n",
    "    \n",
    "    # High dose\n",
    "    im2 = axes[1].imshow(high[x, y], cmap='viridis', interpolation='nearest')\n",
    "    axes[1].set_title(f'High Dose at ({x}, {y})')\n",
    "    plt.colorbar(im2, ax=axes[1], fraction=0.046)\n",
    "    \n",
    "    # Difference\n",
    "    diff = high[x, y] - low[x, y]\n",
    "    im3 = axes[2].imshow(diff, cmap='RdBu_r', interpolation='nearest')\n",
    "    axes[2].set_title('Difference (High - Low)')\n",
    "    plt.colorbar(im3, ax=axes[2], fraction=0.046)\n",
    "    \n",
    "    plt.tight_layout()\n",
    "    plt.show()\n",
    "\n",
    "plot_cbed_comparison(low_dose, high_dose)"
   ]
  },
  {
   "cell_type": "code",
   "execution_count": null,
   "id": "b69770d8",
   "metadata": {},
   "outputs": [],
   "source": [
    "# Cell 4: Visualisation of neighbouring patterns (geometric flow)\n",
    "def plot_neighboring_patterns(data, center_pos=(110, 110)):\n",
    "    \"\"\"Показать 3x3 соседние паттерны\"\"\"\n",
    "    x, y = center_pos\n",
    "    \n",
    "    fig, axes = plt.subplots(3, 3, figsize=(10, 10))\n",
    "    \n",
    "    for i in range(3):\n",
    "        for j in range(3):\n",
    "            scan_x = x - 1 + i\n",
    "            scan_y = y - 1 + j\n",
    "            \n",
    "            if i == 1 and j == 1:\n",
    "                axes[i, j].imshow(high_dose[scan_x, scan_y], cmap='viridis')  \n",
    "            if 0 <= scan_x < data.shape[0] and 0 <= scan_y < data.shape[1]:\n",
    "                axes[i, j].imshow(data[scan_x, scan_y], cmap='viridis')\n",
    "            \n",
    "            axes[i, j].axis('off')\n",
    "    \n",
    "    plt.suptitle('3x3 Neighboring CBED Patterns (Low Dose)')\n",
    "    plt.tight_layout()\n",
    "    plt.show()\n",
    "\n",
    "plot_neighboring_patterns(low_dose)"
   ]
  },
  {
   "cell_type": "code",
   "execution_count": null,
   "id": "2a500cbe",
   "metadata": {},
   "outputs": [],
   "source": [
    "# Cell 5: PACBED (Position Averaged CBED)\n",
    "def calculate_pacbed(data):\n",
    "    \"\"\"Calculate PACBED - position-averaged pattern\"\"\"\n",
    "    return np.mean(data, axis=(0, 1))\n",
    "\n",
    "pacbed_low = calculate_pacbed(low_dose)\n",
    "pacbed_high = calculate_pacbed(high_dose)\n",
    "\n",
    "fig, axes = plt.subplots(1, 2, figsize=(10, 5))\n",
    "im1 = axes[0].imshow(pacbed_low, cmap='viridis')\n",
    "axes[0].set_title('PACBED - Low Dose')\n",
    "plt.colorbar(im1, ax=axes[0])\n",
    "\n",
    "im2 = axes[1].imshow(pacbed_high, cmap='viridis')\n",
    "axes[1].set_title('PACBED - High Dose')\n",
    "plt.colorbar(im2, ax=axes[1])\n",
    "\n",
    "plt.tight_layout()\n",
    "plt.show()\n"
   ]
  },
  {
   "cell_type": "code",
   "execution_count": null,
   "id": "23fa4629",
   "metadata": {},
   "outputs": [],
   "source": [
    "# Cell 6: Defining the Bright Field region\n",
    "def find_bright_field_mask(pacbed, threshold_factor=0.1):\n",
    "    threshold = threshold_factor * pacbed.max()\n",
    "    mask = pacbed > threshold\n",
    "    return mask\n",
    "\n",
    "bf_mask = find_bright_field_mask(pacbed_high)\n",
    "\n",
    "plt.figure(figsize=(8, 8))\n",
    "plt.imshow(bf_mask, cmap='gray')\n",
    "plt.title('Bright Field Mask')\n",
    "plt.colorbar()\n",
    "plt.show()\n",
    "\n",
    "print(f\"Bright field pixels: {bf_mask.sum()}\")\n",
    "print(f\"Percentage of total: {100 * bf_mask.sum() / bf_mask.size:.1f}%\")"
   ]
  }
 ],
 "metadata": {
  "kernelspec": {
   "display_name": "Python 3",
   "language": "python",
   "name": "python3"
  },
  "language_info": {
   "codemirror_mode": {
    "name": "ipython",
    "version": 3
   },
   "file_extension": ".py",
   "mimetype": "text/x-python",
   "name": "python",
   "nbconvert_exporter": "python",
   "pygments_lexer": "ipython3",
   "version": "3.13.3"
  }
 },
 "nbformat": 4,
 "nbformat_minor": 5
}
