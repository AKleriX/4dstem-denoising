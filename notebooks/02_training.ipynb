{
 "cells": [
  {
   "cell_type": "code",
   "execution_count": 1,
   "id": "0a188cce",
   "metadata": {},
   "outputs": [
    {
     "name": "stdout",
     "output_type": "stream",
     "text": [
      "Using device: cpu\n"
     ]
    }
   ],
   "source": [
    "# Ячейка 1: Импорты и настройка\n",
    "import sys\n",
    "sys.path.append('..')\n",
    "\n",
    "import numpy as np\n",
    "import torch\n",
    "import torch.nn as nn\n",
    "import torch.optim as optim\n",
    "from torch.utils.data import DataLoader\n",
    "import matplotlib.pyplot as plt\n",
    "from pathlib import Path\n",
    "from tqdm import tqdm\n",
    "import time\n",
    "import json\n",
    "\n",
    "from src.dataset import STEM4DDataset, create_data_loaders\n",
    "from src.model import UNetDenoiser, SimpleDenoisingCNN\n",
    "from src.losses import PoissonNLLLoss, CombinedLoss, calculate_metrics\n",
    "\n",
    "# Настройки\n",
    "device = torch.device('cuda' if torch.cuda.is_available() else 'cpu')\n",
    "print(f\"Using device: {device}\")\n",
    "\n",
    "# Для воспроизводимости\n",
    "torch.manual_seed(42)\n",
    "np.random.seed(42)"
   ]
  },
  {
   "cell_type": "code",
   "execution_count": 2,
   "id": "95d40496",
   "metadata": {},
   "outputs": [
    {
     "name": "stdout",
     "output_type": "stream",
     "text": [
      "Loading data...\n",
      "Data shape: (256, 256, 48, 48)\n",
      "Bright field pixels: 1812 / 2304\n"
     ]
    },
    {
     "data": {
      "image/png": "[encoded data removed]",
      "text/plain": [
       "<Figure size 600x600 with 2 Axes>"
      ]
     },
     "metadata": {},
     "output_type": "display_data"
    }
   ],
   "source": [
    "# Ячейка 2: Загрузка и подготовка данных\n",
    "data_path = Path(\"../data\")\n",
    "results_path = Path(\"../results\")\n",
    "\n",
    "# Загрузка данных\n",
    "print(\"Loading data...\")\n",
    "low_dose = np.load(data_path / \"03_denoising_SrTiO3_High_mag_Low_dose.npy\")\n",
    "high_dose = np.load(data_path / \"03_denoising_SrTiO3_High_mag_High_dose.npy\")\n",
    "print(f\"Data shape: {low_dose.shape}\")\n",
    "\n",
    "# Создание bright field маски\n",
    "pacbed = np.mean(high_dose, axis=(0, 1))\n",
    "bf_threshold = 0.1 * pacbed.max()\n",
    "bf_mask = pacbed > bf_threshold\n",
    "print(f\"Bright field pixels: {bf_mask.sum()} / {bf_mask.size}\")\n",
    "\n",
    "# Визуализация маски\n",
    "plt.figure(figsize=(6, 6))\n",
    "plt.imshow(bf_mask, cmap='gray')\n",
    "plt.title('Bright Field Mask')\n",
    "plt.colorbar()\n",
    "plt.show()"
   ]
  },
  {
   "cell_type": "code",
   "execution_count": 3,
   "id": "aa332d5a",
   "metadata": {},
   "outputs": [
    {
     "name": "stdout",
     "output_type": "stream",
     "text": [
      "Training samples: 58065\n",
      "Validation samples: 6451\n",
      "Input shape: torch.Size([8, 8, 48, 48])\n",
      "Target shape: torch.Size([8, 1, 48, 48])\n"
     ]
    }
   ],
   "source": [
    "# Ячейка 3: Создание DataLoaders\n",
    "# Для CPU используем меньший batch size\n",
    "batch_size = 8  # Маленький batch для экономии памяти\n",
    "num_workers = 0  # Для Windows лучше 0\n",
    "\n",
    "train_loader, val_loader = create_data_loaders(\n",
    "    low_dose, \n",
    "    high_dose,  # используем как clean data\n",
    "    batch_size=batch_size,\n",
    "    val_split=0.1,\n",
    "    bright_field_mask=bf_mask,\n",
    "    num_workers=num_workers\n",
    ")\n",
    "\n",
    "print(f\"Training samples: {len(train_loader.dataset)}\")\n",
    "print(f\"Validation samples: {len(val_loader.dataset)}\")\n",
    "\n",
    "# Проверка одного батча\n",
    "sample_batch = next(iter(train_loader))\n",
    "inputs, targets, info = sample_batch\n",
    "print(f\"Input shape: {inputs.shape}\")  # (batch, 8, 48, 48)\n",
    "print(f\"Target shape: {targets.shape}\")  # (batch, 1, 48, 48)\n"
   ]
  },
  {
   "cell_type": "code",
   "execution_count": 4,
   "id": "d48b8166",
   "metadata": {},
   "outputs": [
    {
     "name": "stdout",
     "output_type": "stream",
     "text": [
      "Model parameters: 39,585\n"
     ]
    }
   ],
   "source": [
    "# Ячейка 4: Инициализация модели\n",
    "# Используем упрощенную модель для CPU\n",
    "model = SimpleDenoisingCNN(in_channels=8).to(device)\n",
    "print(f\"Model parameters: {sum(p.numel() for p in model.parameters()):,}\")\n",
    "\n",
    "# Или если хотите полную U-Net (будет медленнее)\n",
    "# model = UNetDenoiser(in_channels=8, base_features=8).to(device)\n",
    "\n",
    "# Loss и оптимизатор\n",
    "criterion = CombinedLoss(mse_weight=0.7, poisson_weight=0.3)\n",
    "optimizer = optim.Adam(model.parameters(), lr=1e-3)\n",
    "scheduler = optim.lr_scheduler.ReduceLROnPlateau(\n",
    "    optimizer, mode='min', patience=5, factor=0.5\n",
    ")"
   ]
  },
  {
   "cell_type": "code",
   "execution_count": 5,
   "id": "3e65e4ee",
   "metadata": {},
   "outputs": [],
   "source": [
    "# Ячейка 5: Функции для обучения\n",
    "def train_epoch(model, loader, criterion, optimizer, device):\n",
    "    \"\"\"Один эпоха обучения\"\"\"\n",
    "    model.train()\n",
    "    total_loss = 0\n",
    "    batch_metrics = []\n",
    "    \n",
    "    pbar = tqdm(loader, desc='Training')\n",
    "    for inputs, targets, _ in pbar:\n",
    "        inputs = inputs.to(device)\n",
    "        targets = targets.to(device)\n",
    "        \n",
    "        # Forward pass\n",
    "        optimizer.zero_grad()\n",
    "        outputs = model(inputs)\n",
    "        \n",
    "        # Loss\n",
    "        loss, mse_loss, poisson_loss = criterion(outputs, targets)\n",
    "        \n",
    "        # Backward pass\n",
    "        loss.backward()\n",
    "        optimizer.step()\n",
    "        \n",
    "        # Метрики\n",
    "        total_loss += loss.item()\n",
    "        metrics = calculate_metrics(outputs, targets)\n",
    "        batch_metrics.append(metrics)\n",
    "        \n",
    "        # Обновление прогресс-бара\n",
    "        pbar.set_postfix({\n",
    "            'loss': f'{loss.item():.4f}',\n",
    "            'psnr': f'{metrics[\"psnr\"]:.2f}'\n",
    "        })\n",
    "    \n",
    "    avg_loss = total_loss / len(loader)\n",
    "    avg_metrics = {\n",
    "        key: np.mean([m[key] for m in batch_metrics])\n",
    "        for key in batch_metrics[0].keys()\n",
    "    }\n",
    "    \n",
    "    return avg_loss, avg_metrics\n",
    "\n",
    "def validate_epoch(model, loader, criterion, device):\n",
    "    \"\"\"Валидация\"\"\"\n",
    "    model.eval()\n",
    "    total_loss = 0\n",
    "    batch_metrics = []\n",
    "    \n",
    "    with torch.no_grad():\n",
    "        pbar = tqdm(loader, desc='Validation')\n",
    "        for inputs, targets, _ in pbar:\n",
    "            inputs = inputs.to(device)\n",
    "            targets = targets.to(device)\n",
    "            \n",
    "            outputs = model(inputs)\n",
    "            loss, _, _ = criterion(outputs, targets)\n",
    "            \n",
    "            total_loss += loss.item()\n",
    "            metrics = calculate_metrics(outputs, targets)\n",
    "            batch_metrics.append(metrics)\n",
    "            \n",
    "            pbar.set_postfix({\n",
    "                'loss': f'{loss.item():.4f}',\n",
    "                'psnr': f'{metrics[\"psnr\"]:.2f}'\n",
    "            })\n",
    "    \n",
    "    avg_loss = total_loss / len(loader)\n",
    "    avg_metrics = {\n",
    "        key: np.mean([m[key] for m in batch_metrics])\n",
    "        for key in batch_metrics[0].keys()\n",
    "    }\n",
    "    \n",
    "    return avg_loss, avg_metrics"
   ]
  },
  {
   "cell_type": "code",
   "execution_count": null,
   "id": "d8c1ed62",
   "metadata": {},
   "outputs": [
    {
     "name": "stdout",
     "output_type": "stream",
     "text": [
      "Starting training...\n",
      "\n",
      "Epoch 1/20\n"
     ]
    },
    {
     "name": "stderr",
     "output_type": "stream",
     "text": [
      "Training: 100%|██████████| 7259/7259 [07:54<00:00, 15.31it/s, loss=20.0150, psnr=18.68]\n",
      "Validation: 100%|██████████| 807/807 [00:25<00:00, 31.25it/s, loss=20.8529, psnr=18.81]\n"
     ]
    },
    {
     "name": "stdout",
     "output_type": "stream",
     "text": [
      "Train Loss: 21.4974, Val Loss: 20.6249\n",
      "Train PSNR: 19.88, Val PSNR: 20.00\n",
      "Learning Rate: 0.001000\n",
      "✓ Saved best model!\n",
      "\n",
      "Epoch 2/20\n"
     ]
    },
    {
     "name": "stderr",
     "output_type": "stream",
     "text": [
      "Training: 100%|██████████| 7259/7259 [08:46<00:00, 13.78it/s, loss=17.1371, psnr=18.79]\n",
      "Validation: 100%|██████████| 807/807 [00:24<00:00, 33.43it/s, loss=20.5873, psnr=18.85]\n"
     ]
    },
    {
     "name": "stdout",
     "output_type": "stream",
     "text": [
      "Train Loss: 20.4953, Val Loss: 20.4959\n",
      "Train PSNR: 20.01, Val PSNR: 20.03\n",
      "Learning Rate: 0.001000\n",
      "✓ Saved best model!\n",
      "\n",
      "Epoch 3/20\n"
     ]
    },
    {
     "name": "stderr",
     "output_type": "stream",
     "text": [
      "Training: 100%|██████████| 7259/7259 [08:34<00:00, 14.12it/s, loss=18.9554, psnr=19.15]\n",
      "Validation: 100%|██████████| 807/807 [00:22<00:00, 35.81it/s, loss=20.2978, psnr=18.90]\n"
     ]
    },
    {
     "name": "stdout",
     "output_type": "stream",
     "text": [
      "Train Loss: 20.3863, Val Loss: 20.4374\n",
      "Train PSNR: 20.03, Val PSNR: 20.03\n",
      "Learning Rate: 0.001000\n",
      "✓ Saved best model!\n",
      "\n",
      "Epoch 4/20\n"
     ]
    },
    {
     "name": "stderr",
     "output_type": "stream",
     "text": [
      "Training: 100%|██████████| 7259/7259 [08:04<00:00, 14.97it/s, loss=23.6140, psnr=19.86]\n",
      "Validation: 100%|██████████| 807/807 [00:25<00:00, 31.78it/s, loss=20.4530, psnr=18.87]\n"
     ]
    },
    {
     "name": "stdout",
     "output_type": "stream",
     "text": [
      "Train Loss: 20.3509, Val Loss: 20.4195\n",
      "Train PSNR: 20.03, Val PSNR: 20.04\n",
      "Learning Rate: 0.001000\n",
      "✓ Saved best model!\n",
      "\n",
      "Epoch 5/20\n"
     ]
    },
    {
     "name": "stderr",
     "output_type": "stream",
     "text": [
      "Training: 100%|██████████| 7259/7259 [08:09<00:00, 14.83it/s, loss=27.0730, psnr=19.04]\n",
      "Validation: 100%|██████████| 807/807 [00:22<00:00, 35.88it/s, loss=20.3298, psnr=18.90]\n"
     ]
    },
    {
     "name": "stdout",
     "output_type": "stream",
     "text": [
      "Train Loss: 20.3964, Val Loss: 20.6631\n",
      "Train PSNR: 20.03, Val PSNR: 20.00\n",
      "Learning Rate: 0.001000\n",
      "\n",
      "Epoch 6/20\n"
     ]
    },
    {
     "name": "stderr",
     "output_type": "stream",
     "text": [
      "Training: 100%|██████████| 7259/7259 [08:06<00:00, 14.93it/s, loss=20.6749, psnr=19.40]\n",
      "Validation: 100%|██████████| 807/807 [00:22<00:00, 35.89it/s, loss=20.3293, psnr=18.89]\n"
     ]
    },
    {
     "name": "stdout",
     "output_type": "stream",
     "text": [
      "Train Loss: 20.3028, Val Loss: 20.3679\n",
      "Train PSNR: 20.04, Val PSNR: 20.05\n",
      "Learning Rate: 0.001000\n",
      "✓ Saved best model!\n",
      "\n",
      "Epoch 7/20\n"
     ]
    },
    {
     "name": "stderr",
     "output_type": "stream",
     "text": [
      "Training: 100%|██████████| 7259/7259 [08:02<00:00, 15.05it/s, loss=20.4371, psnr=19.30]\n",
      "Validation: 100%|██████████| 807/807 [00:21<00:00, 36.72it/s, loss=20.1715, psnr=18.92]\n"
     ]
    },
    {
     "name": "stdout",
     "output_type": "stream",
     "text": [
      "Train Loss: 20.3187, Val Loss: 20.3765\n",
      "Train PSNR: 20.04, Val PSNR: 20.05\n",
      "Learning Rate: 0.001000\n",
      "\n",
      "Epoch 8/20\n"
     ]
    },
    {
     "name": "stderr",
     "output_type": "stream",
     "text": [
      "Training: 100%|██████████| 7259/7259 [08:04<00:00, 14.98it/s, loss=14.1621, psnr=18.86]\n",
      "Validation: 100%|██████████| 807/807 [00:22<00:00, 36.44it/s, loss=19.9683, psnr=18.96]\n"
     ]
    },
    {
     "name": "stdout",
     "output_type": "stream",
     "text": [
      "Train Loss: 20.2761, Val Loss: 20.3579\n",
      "Train PSNR: 20.05, Val PSNR: 20.05\n",
      "Learning Rate: 0.001000\n",
      "✓ Saved best model!\n",
      "\n",
      "Epoch 9/20\n"
     ]
    },
    {
     "name": "stderr",
     "output_type": "stream",
     "text": [
      "Training: 100%|██████████| 7259/7259 [08:04<00:00, 14.98it/s, loss=17.8121, psnr=17.61]\n",
      "Validation: 100%|██████████| 807/807 [00:22<00:00, 36.62it/s, loss=19.9397, psnr=18.96]\n"
     ]
    },
    {
     "name": "stdout",
     "output_type": "stream",
     "text": [
      "Train Loss: 20.2497, Val Loss: 20.3172\n",
      "Train PSNR: 20.06, Val PSNR: 20.05\n",
      "Learning Rate: 0.001000\n",
      "✓ Saved best model!\n",
      "\n",
      "Epoch 10/20\n"
     ]
    },
    {
     "name": "stderr",
     "output_type": "stream",
     "text": [
      "Training: 100%|██████████| 7259/7259 [08:03<00:00, 15.02it/s, loss=16.2649, psnr=20.05]\n",
      "Validation: 100%|██████████| 807/807 [00:21<00:00, 36.75it/s, loss=20.3047, psnr=18.90]\n"
     ]
    },
    {
     "name": "stdout",
     "output_type": "stream",
     "text": [
      "Train Loss: 20.3121, Val Loss: 20.3655\n",
      "Train PSNR: 20.04, Val PSNR: 20.05\n",
      "Learning Rate: 0.001000\n",
      "\n",
      "Epoch 11/20\n"
     ]
    },
    {
     "name": "stderr",
     "output_type": "stream",
     "text": [
      "Training: 100%|██████████| 7259/7259 [08:01<00:00, 15.09it/s, loss=22.6813, psnr=18.33]\n",
      "Validation: 100%|██████████| 807/807 [00:22<00:00, 35.79it/s, loss=20.0815, psnr=18.93]\n"
     ]
    },
    {
     "name": "stdout",
     "output_type": "stream",
     "text": [
      "Train Loss: 20.2491, Val Loss: 20.3171\n",
      "Train PSNR: 20.05, Val PSNR: 20.05\n",
      "Learning Rate: 0.001000\n",
      "✓ Saved best model!\n",
      "\n",
      "Epoch 12/20\n"
     ]
    },
    {
     "name": "stderr",
     "output_type": "stream",
     "text": [
      "Training: 100%|██████████| 7259/7259 [08:06<00:00, 14.94it/s, loss=22.6957, psnr=18.04]\n",
      "Validation: 100%|██████████| 807/807 [00:21<00:00, 36.72it/s, loss=20.3077, psnr=18.89]\n"
     ]
    },
    {
     "name": "stdout",
     "output_type": "stream",
     "text": [
      "Train Loss: 20.2489, Val Loss: 20.3279\n",
      "Train PSNR: 20.05, Val PSNR: 20.05\n",
      "Learning Rate: 0.001000\n",
      "\n",
      "Epoch 13/20\n"
     ]
    },
    {
     "name": "stderr",
     "output_type": "stream",
     "text": [
      "Training: 100%|██████████| 7259/7259 [08:03<00:00, 15.01it/s, loss=18.5945, psnr=19.82]\n",
      "Validation: 100%|██████████| 807/807 [00:22<00:00, 36.17it/s, loss=20.0420, psnr=18.94]\n"
     ]
    },
    {
     "name": "stdout",
     "output_type": "stream",
     "text": [
      "Train Loss: 20.2748, Val Loss: 20.3153\n",
      "Train PSNR: 20.05, Val PSNR: 20.06\n",
      "Learning Rate: 0.001000\n",
      "✓ Saved best model!\n",
      "\n",
      "Epoch 14/20\n"
     ]
    },
    {
     "name": "stderr",
     "output_type": "stream",
     "text": [
      "Training: 100%|██████████| 7259/7259 [10:12<00:00, 11.84it/s, loss=20.0829, psnr=19.40]  \n",
      "Validation: 100%|██████████| 807/807 [00:22<00:00, 35.65it/s, loss=20.1220, psnr=18.92]\n"
     ]
    },
    {
     "name": "stdout",
     "output_type": "stream",
     "text": [
      "Train Loss: 20.2249, Val Loss: 20.3056\n",
      "Train PSNR: 20.06, Val PSNR: 20.06\n",
      "Learning Rate: 0.001000\n",
      "✓ Saved best model!\n",
      "\n",
      "Epoch 15/20\n"
     ]
    },
    {
     "name": "stderr",
     "output_type": "stream",
     "text": [
      "Training: 100%|██████████| 7259/7259 [08:02<00:00, 15.04it/s, loss=19.2392, psnr=17.67]\n",
      "Validation: 100%|██████████| 807/807 [00:22<00:00, 35.27it/s, loss=20.1510, psnr=18.92]\n"
     ]
    },
    {
     "name": "stdout",
     "output_type": "stream",
     "text": [
      "Train Loss: 20.2114, Val Loss: 20.3252\n",
      "Train PSNR: 20.06, Val PSNR: 20.05\n",
      "Learning Rate: 0.001000\n",
      "\n",
      "Epoch 16/20\n"
     ]
    },
    {
     "name": "stderr",
     "output_type": "stream",
     "text": [
      "Training:   5%|▍         | 354/7259 [00:23<12:27,  9.24it/s, loss=18.4175, psnr=19.69]"
     ]
    }
   ],
   "source": [
    "# Ячейка 6: Цикл обучения\n",
    "# Для CPU рекомендую начать с небольшого количества эпох\n",
    "num_epochs = 20  # Увеличьте если есть время\n",
    "history = {\n",
    "    'train_loss': [],\n",
    "    'val_loss': [],\n",
    "    'train_metrics': [],\n",
    "    'val_metrics': [],\n",
    "    'lr': []\n",
    "}\n",
    "\n",
    "best_val_loss = float('inf')\n",
    "patience_counter = 0\n",
    "max_patience = 10\n",
    "\n",
    "print(\"Starting training...\")\n",
    "start_time = time.time()\n",
    "\n",
    "for epoch in range(num_epochs):\n",
    "    print(f\"\\nEpoch {epoch+1}/{num_epochs}\")\n",
    "    \n",
    "    # Обучение\n",
    "    train_loss, train_metrics = train_epoch(\n",
    "        model, train_loader, criterion, optimizer, device\n",
    "    )\n",
    "    \n",
    "    # Валидация\n",
    "    val_loss, val_metrics = validate_epoch(\n",
    "        model, val_loader, criterion, device\n",
    "    )\n",
    "    \n",
    "    # Scheduler\n",
    "    scheduler.step(val_loss)\n",
    "    current_lr = optimizer.param_groups[0]['lr']\n",
    "    \n",
    "    # Сохранение истории\n",
    "    history['train_loss'].append(train_loss)\n",
    "    history['val_loss'].append(val_loss)\n",
    "    history['train_metrics'].append(train_metrics)\n",
    "    history['val_metrics'].append(val_metrics)\n",
    "    history['lr'].append(current_lr)\n",
    "    \n",
    "    # Вывод результатов\n",
    "    print(f\"Train Loss: {train_loss:.4f}, Val Loss: {val_loss:.4f}\")\n",
    "    print(f\"Train PSNR: {train_metrics['psnr']:.2f}, \"\n",
    "          f\"Val PSNR: {val_metrics['psnr']:.2f}\")\n",
    "    print(f\"Learning Rate: {current_lr:.6f}\")\n",
    "    \n",
    "    # Сохранение лучшей модели\n",
    "    if val_loss < best_val_loss:\n",
    "        best_val_loss = val_loss\n",
    "        patience_counter = 0\n",
    "        torch.save({\n",
    "            'epoch': epoch,\n",
    "            'model_state_dict': model.state_dict(),\n",
    "            'optimizer_state_dict': optimizer.state_dict(),\n",
    "            'val_loss': val_loss,\n",
    "            'val_metrics': val_metrics\n",
    "        }, results_path / 'checkpoints' / 'best_model.pth')\n",
    "        print(\"✓ Saved best model!\")\n",
    "    else:\n",
    "        patience_counter += 1\n",
    "        \n",
    "    # Early stopping\n",
    "    if patience_counter >= max_patience:\n",
    "        print(\"Early stopping triggered!\")\n",
    "        break\n",
    "\n",
    "total_time = time.time() - start_time\n",
    "print(f\"\\nTraining completed in {total_time/60:.2f} minutes\")"
   ]
  },
  {
   "cell_type": "code",
   "execution_count": null,
   "id": "6a1213af",
   "metadata": {},
   "outputs": [],
   "source": [
    "# Ячейка 7: Визуализация обучения\n",
    "fig, axes = plt.subplots(2, 2, figsize=(12, 10))\n",
    "\n",
    "# Loss\n",
    "axes[0, 0].plot(history['train_loss'], label='Train')\n",
    "axes[0, 0].plot(history['val_loss'], label='Validation')\n",
    "axes[0, 0].set_xlabel('Epoch')\n",
    "axes[0, 0].set_ylabel('Loss')\n",
    "axes[0, 0].set_title('Training and Validation Loss')\n",
    "axes[0, 0].legend()\n",
    "axes[0, 0].grid(True)\n",
    "\n",
    "# PSNR\n",
    "train_psnr = [m['psnr'] for m in history['train_metrics']]\n",
    "val_psnr = [m['psnr'] for m in history['val_metrics']]\n",
    "axes[0, 1].plot(train_psnr, label='Train')\n",
    "axes[0, 1].plot(val_psnr, label='Validation')\n",
    "axes[0, 1].set_xlabel('Epoch')\n",
    "axes[0, 1].set_ylabel('PSNR (dB)')\n",
    "axes[0, 1].set_title('PSNR')\n",
    "axes[0, 1].legend()\n",
    "axes[0, 1].grid(True)\n",
    "\n",
    "# Correlation\n",
    "train_corr = [m['correlation'] for m in history['train_metrics']]\n",
    "val_corr = [m['correlation'] for m in history['val_metrics']]\n",
    "axes[1, 0].plot(train_corr, label='Train')\n",
    "axes[1, 0].plot(val_corr, label='Validation')\n",
    "axes[1, 0].set_xlabel('Epoch')\n",
    "axes[1, 0].set_ylabel('Correlation')\n",
    "axes[1, 0].set_title('Correlation Coefficient')\n",
    "axes[1, 0].legend()\n",
    "axes[1, 0].grid(True)\n",
    "\n",
    "# Learning rate\n",
    "axes[1, 1].plot(history['lr'])\n",
    "axes[1, 1].set_xlabel('Epoch')\n",
    "axes[1, 1].set_ylabel('Learning Rate')\n",
    "axes[1, 1].set_title('Learning Rate Schedule')\n",
    "axes[1, 1].grid(True)\n",
    "axes[1, 1].set_yscale('log')\n",
    "\n",
    "plt.tight_layout()\n",
    "plt.savefig(results_path / 'figures' / 'training_history.png', dpi=300, bbox_inches='tight')\n",
    "plt.show()\n",
    "\n",
    "# Сохранение истории\n",
    "with open(results_path / 'training_history.json', 'w') as f:\n",
    "    json.dump(history, f, indent=2)"
   ]
  }
 ],
 "metadata": {
  "kernelspec": {
   "display_name": "venv",
   "language": "python",
   "name": "python3"
  },
  "language_info": {
   "codemirror_mode": {
    "name": "ipython",
    "version": 3
   },
   "file_extension": ".py",
   "mimetype": "text/x-python",
   "name": "python",
   "nbconvert_exporter": "python",
   "pygments_lexer": "ipython3",
   "version": "3.13.3"
  }
 },
 "nbformat": 4,
 "nbformat_minor": 5
}
